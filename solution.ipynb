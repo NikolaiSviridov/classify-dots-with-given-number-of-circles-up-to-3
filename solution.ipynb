{
 "cells": [
  {
   "cell_type": "code",
   "execution_count": 1,
   "metadata": {},
   "outputs": [],
   "source": [
    "%matplotlib inline\n",
    "import matplotlib.pyplot as plt\n",
    "import numpy as np\n",
    "import math\n",
    "import scipy.linalg as sla\n",
    "\n",
    "from collections import defaultdict, Counter\n",
    "from itertools import combinations\n",
    "from scipy.spatial import distance\n",
    "\n",
    "MARKERS = ['o', 'v',  's']\n",
    "PARAMS = {3: (7, 21, 3),\n",
    "         2: (5, 10, 2)}\n",
    "PRECISION = 1e-4"
   ]
  },
  {
   "cell_type": "markdown",
   "metadata": {},
   "source": [
    "Функция для генерации точек окружности с заданными параметрами"
   ]
  },
  {
   "cell_type": "code",
   "execution_count": 2,
   "metadata": {},
   "outputs": [],
   "source": [
    "def gen_circle(center, radius, num_dots=10):\n",
    "    \"\"\"\n",
    "    Parameters:\n",
    "        center: tuple (x, y) of center\n",
    "        radius: radius value \n",
    "        num_dots: number of dots which we need\n",
    "    \"\"\"\n",
    "    a, b = center\n",
    "    theta = np.linspace(0, 2*np.pi,  num_dots * 100)\n",
    "\n",
    "    r = radius\n",
    "    x = r * np.cos(theta) + a\n",
    "    y = r * np.sin(theta) + b    \n",
    "    indexes = np.random.choice(num_dots * 100, num_dots, replace=False)\n",
    "    \n",
    "    return (x[indexes], y[indexes])"
   ]
  },
  {
   "cell_type": "markdown",
   "metadata": {},
   "source": [
    "Функция для создания входных данных в виде листа. Основывается на результате gen_circle(center, radius, num_dots)"
   ]
  },
  {
   "cell_type": "code",
   "execution_count": 3,
   "metadata": {},
   "outputs": [],
   "source": [
    "def gen_input(circles):  \n",
    "    dataIn = []\n",
    "    for circle in circles:\n",
    "        x, y = circle\n",
    "        dots = list(zip(x,y))\n",
    "        dataIn.extend(dots)\n",
    "    np.random.shuffle(dataIn)\n",
    "    return dataIn"
   ]
  },
  {
   "cell_type": "markdown",
   "metadata": {},
   "source": [
    "Функция для рисования кружков"
   ]
  },
  {
   "cell_type": "code",
   "execution_count": 4,
   "metadata": {},
   "outputs": [],
   "source": [
    "def draw_plot(circles):\n",
    "    \"\"\"\n",
    "    Parameters:\n",
    "        circles: list of tuples (x, y)\n",
    "    \"\"\"\n",
    "    for i, (circle, marker) in enumerate(zip(circles, MARKERS), 1):\n",
    "        x, y = circle\n",
    "        plt.plot(x, y, marker, label=f\"circle{i}\".format(marker))\n",
    "        \n",
    "    plt.legend(numpoints=1)\n",
    "    plt.rc('grid', linestyle=\"-\", color='black')\n",
    "    plt.gca().set_aspect('equal', adjustable='box')\n",
    "    plt.grid(True)"
   ]
  },
  {
   "cell_type": "markdown",
   "metadata": {},
   "source": [
    "Функции для рисования результата из solution"
   ]
  },
  {
   "cell_type": "code",
   "execution_count": 5,
   "metadata": {},
   "outputs": [],
   "source": [
    "def draw_result(inputData, result):\n",
    "    inverse = defaultdict(list)\n",
    "    for dot in inputData:\n",
    "        inverse[result[dot]].append(dot)\n",
    "    result_circles = []\n",
    "    for value in inverse.values():\n",
    "        x, y = zip(*value)\n",
    "        result_circles.append([x, y])\n",
    "    draw_plot(result_circles)"
   ]
  },
  {
   "cell_type": "markdown",
   "metadata": {},
   "source": [
    "Функции для генерации тестов"
   ]
  },
  {
   "cell_type": "code",
   "execution_count": 6,
   "metadata": {},
   "outputs": [],
   "source": [
    "def random(borders, M):\n",
    "    return np.random.choice(np.arange(*borders), M, replace=False)\n",
    "\n",
    "def split_number(number, parts):\n",
    "    if parts == 1:\n",
    "         return [number]        \n",
    "    result = []\n",
    "    last = number    \n",
    "    for _ in range(parts):\n",
    "        part = math.ceil(last * np.random.choice(np.arange(1, 100), 1, replace=False) / 100)\n",
    "        result.append(part)\n",
    "        last -= part\n",
    "    return result\n",
    "\n",
    "def gen_test(N, M, r, borders, draw=True):\n",
    "    centers = list(zip(random( borders, M), random( borders, M)))\n",
    "    radiuses = np.random.choice(np.arange(1, r), M, replace=False)\n",
    "    num_dots = split_number(N, M)\n",
    "    circles = []\n",
    "    for num, (center, radius) in zip(num_dots, zip(centers, radiuses)):\n",
    "        circles.append(gen_circle(center, radius, num))\n",
    "   \n",
    "    if draw:\n",
    "        draw_plot(circles)\n",
    "    return circles"
   ]
  },
  {
   "cell_type": "markdown",
   "metadata": {},
   "source": [
    "Функция для проверки результата работы."
   ]
  },
  {
   "cell_type": "code",
   "execution_count": 29,
   "metadata": {},
   "outputs": [],
   "source": [
    "def check_result(circles, result):\n",
    "    map_dict = defaultdict(lambda: -1)\n",
    "    missmatch = 0\n",
    "    for circle_cls, circle in enumerate(circles):\n",
    "        for x, y in zip(circle[0], circle[1]):\n",
    "            dot = (x, y)\n",
    "            curr_cls = result[dot]\n",
    "\n",
    "            if map_dict[circle_cls]  == -1:\n",
    "                map_dict[circle_cls] = curr_cls\n",
    "\n",
    "            if map_dict[circle_cls] != curr_cls:\n",
    "                missmatch += 1\n",
    "\n",
    "    if missmatch != 0:\n",
    "         raise Exception(f\"!!! Error found missmatches {missmatch} !!!\")\n",
    "    else:\n",
    "        print(\"Pass all !!!\")\n",
    "        \n",
    "        "
   ]
  },
  {
   "cell_type": "markdown",
   "metadata": {},
   "source": [
    "Класс для хранения параметров окружности и возможности проверить точку на вхождение в окружность."
   ]
  },
  {
   "cell_type": "code",
   "execution_count": 8,
   "metadata": {},
   "outputs": [],
   "source": [
    "class Circle:\n",
    "    \n",
    "    def __init__(self, dots, a, b, r):\n",
    "        \"\"\"\n",
    "        Parameters:\n",
    "            dots: set of included dots,\n",
    "            (a, b): center of circle,\n",
    "            r: radius \n",
    "        \"\"\"\n",
    "        self.dots = set(dots)\n",
    "        self.a = a\n",
    "        self.b = b\n",
    "        self.r = r\n",
    "    \n",
    "    def check(self, dot):\n",
    "        \"\"\"\n",
    "        Check if external dot lies on circle by calculating euclidean distance from center.\n",
    "        Parameters:\n",
    "            dot: external  dot \n",
    "        \"\"\"\n",
    "        return np.abs(distance.euclidean((self.a, self.b), dot) - self.r) < PRECISION\n",
    "    \n",
    "    def __len__(self):\n",
    "        \"\"\"\n",
    "        Returns:\n",
    "            number of dots\n",
    "        \"\"\"\n",
    "        return len(self.dots)"
   ]
  },
  {
   "cell_type": "markdown",
   "metadata": {},
   "source": [
    "Функции для сравнения значений с заданной точностью, объектов Circle и нахождения пересечения точек в Circle"
   ]
  },
  {
   "cell_type": "code",
   "execution_count": 9,
   "metadata": {},
   "outputs": [],
   "source": [
    "def compare(value1, value2):\n",
    "    return np.abs(value1 - value2) < PRECISION\n",
    "\n",
    "def compare_circles(circle1, circle2):\n",
    "    a1, a2 = circle1.a, circle2.a    \n",
    "    b1, b2 = circle1.b, circle2.b\n",
    "    r1, r2 = circle1.r, circle2.b    \n",
    "    return compare(a1, a2) and compare(b1, b2) and compare(r1, r2)\n",
    "\n",
    "def contains_dots(circle1, circle2):\n",
    "    return len(circle1.dots & circle2.dots) > 0"
   ]
  },
  {
   "cell_type": "markdown",
   "metadata": {},
   "source": [
    "Функция создания окружности по 3 точкам, если таковая существует"
   ]
  },
  {
   "cell_type": "code",
   "execution_count": 10,
   "metadata": {},
   "outputs": [],
   "source": [
    "def check_circle(dots):\n",
    "    \"\"\"\n",
    "    If possible, creates circle on 3 dots, otherwise returns None\n",
    "    Parameters:\n",
    "        dots: 3 element list of tuples (x, y)\n",
    "    Returns:\n",
    "        Circle object or None    \n",
    "    \"\"\"\n",
    "    x1, y1 = dots[0]\n",
    "    x2, y2 = dots[1]\n",
    "    x3, y3 = dots[2]\n",
    "    \n",
    "    M = np.array([ [x1**2 + y1**2, x1, y1, 1 ]\n",
    "                  ,[x2**2 + y2**2, x2, y2, 1 ]\n",
    "                  ,[x3**2 + y3**2, x3, y3, 1 ]])\n",
    "    \n",
    "    M11 = sla.det(np.delete(M, 0, axis=1))\n",
    "    M12 = sla.det(np.delete(M, 1, axis=1))\n",
    "    M13 = sla.det(np.delete(M, 2, axis=1))\n",
    "    M14 = sla.det(np.delete(M, 3, axis=1))\n",
    "    \n",
    "    a = 0.5 * M12 / M11\n",
    "    b = -0.5 * M13 / M11\n",
    "    square_r = a ** 2 + b ** 2 + M14 / M11\n",
    "    \n",
    "    if square_r > 0:\n",
    "        return Circle(dots, a, b, np.sqrt(square_r))\n",
    "    \n",
    "    return None"
   ]
  },
  {
   "cell_type": "markdown",
   "metadata": {},
   "source": [
    "Функция для поиска первого объекта класса Circle, который удовлетворяет следующим условиям:  \n",
    "1. sample - точки из которых мы получаем ${sample}\\choose{3}$ (сочетания без повторений) троек точек, из которых мы создаем Circle объекты, добавляем в них точки из inputData, если один из Circle имеет $\\geq$ threshold точек, то возвращаем\n",
    "2. sample $\\notin$ inputData\n",
    "3. threshold - min значение количестваа точек Circle, чтоб признать его истинным"
   ]
  },
  {
   "cell_type": "code",
   "execution_count": 11,
   "metadata": {},
   "outputs": [],
   "source": [
    "def find_fst_circle(inputData, sample, threshold):\n",
    "    circles = []\n",
    "    for comb in combinations(sample, 3):\n",
    "        curr_circle = check_circle(comb)\n",
    "        if curr_circle is not None:\n",
    "            unique = True\n",
    "            \n",
    "            for circle in circles:\n",
    "                if compare_circles(curr_circle, circle):\n",
    "                    circle.dots |= set(comb)\n",
    "                    unique = False\n",
    "                    break\n",
    "            if unique:\n",
    "                circles.append(curr_circle)\n",
    "    \n",
    "    for dot in inputData:\n",
    "        for circle in circles:\n",
    "            if circle.check(dot):            \n",
    "                circle.dots.add(dot)\n",
    "                if len(circle) >= threshold:\n",
    "                    return circle\n",
    "    return None\n"
   ]
  },
  {
   "cell_type": "markdown",
   "metadata": {},
   "source": [
    "Функция возвращающая истинный Circle при условии, что входные данные удовлетворили ограничениям (см. в README)."
   ]
  },
  {
   "cell_type": "code",
   "execution_count": 12,
   "metadata": {},
   "outputs": [],
   "source": [
    "def get_circle(inputData, threshold, needed_size, iterations):\n",
    "    circle = None\n",
    "    if len(inputData) >= needed_size:        \n",
    "        for i in range(0, iterations):\n",
    "            low = threshold * i\n",
    "            high = threshold * (i + 1)\n",
    "            circle = find_fst_circle(inputData, inputData[low : high], threshold)\n",
    "            if circle is not None:            \n",
    "                break\n",
    "    return circle"
   ]
  },
  {
   "cell_type": "markdown",
   "metadata": {},
   "source": [
    "Функция для поиска объекта класса Circle, который имеет $\\geq$ threshold или максимальное возможное на inputData.  \n",
    "Поиск аналогичен find_fst_circle(inputData, sample, threshold)"
   ]
  },
  {
   "cell_type": "code",
   "execution_count": 13,
   "metadata": {},
   "outputs": [],
   "source": [
    "def find_max_circle(inputData, M, threshold):\n",
    "    circles = []    \n",
    "    for comb in combinations(inputData, 3):\n",
    "        curr_circle = check_circle(comb)\n",
    "        if curr_circle is not None:\n",
    "            unique = True\n",
    "            \n",
    "            for circle in circles:\n",
    "                if compare_circles(curr_circle, circle):\n",
    "                    circle.dots |= set(comb)\n",
    "                    unique = False\n",
    "                    \n",
    "                    if len(circle) >= threshold:\n",
    "                        return circle                    \n",
    "                    break\n",
    "                    \n",
    "            if unique:\n",
    "                circles.append(curr_circle)  \n",
    "    \n",
    "    \n",
    "    max_dots = 3\n",
    "    max_circle = circles[0]\n",
    "    all_dots = len(inputData)\n",
    "    for dot in inputData:     \n",
    "            \n",
    "        for circle in circles:\n",
    "            if circle.check(dot):            \n",
    "                circle.dots.add(dot)\n",
    "                if (all_dots - len(circle) == M - 1):\n",
    "                    return circle\n",
    "                \n",
    "                if  max_dots < len(circle) and (all_dots - len(circle) >= M - 1):\n",
    "                    max_dots = len(circle)\n",
    "                    max_circle = circle \n",
    "                    \n",
    "                if max_dots >= threshold:\n",
    "                    return max_circle\n",
    "                \n",
    "    return max_circle"
   ]
  },
  {
   "cell_type": "markdown",
   "metadata": {},
   "source": [
    "Функция классификации точек при условии, что имеется 2 окружности и данные не удовлетворяют ограничениям (подробнее см. в README)"
   ]
  },
  {
   "cell_type": "code",
   "execution_count": 14,
   "metadata": {},
   "outputs": [],
   "source": [
    "def find2_bad_conditions(inputData):\n",
    "    result = {}\n",
    "    if len(inputData) in [2, 3]:\n",
    "        i = 1\n",
    "        for dot in inputData:\n",
    "            result[dot] = i\n",
    "            i += 1\n",
    "            i = 1 if i > 2 else i\n",
    "        return result \n",
    "    \n",
    "    threshold = PARAMS[2][0]\n",
    "    circle = find_max_circle(inputData, 3, threshold)\n",
    "    \n",
    "    for dot in inputData:\n",
    "        if circle.check(dot):\n",
    "            result[dot] = 2\n",
    "        else:\n",
    "            result[dot] = 1\n",
    "    return result\n",
    "    \n",
    "    "
   ]
  },
  {
   "cell_type": "markdown",
   "metadata": {},
   "source": [
    "Функция классификации точек при условии, что имеется 3 окружности и данные не удовлетворяют ограничениям (подробнее см. в README)"
   ]
  },
  {
   "cell_type": "code",
   "execution_count": 15,
   "metadata": {},
   "outputs": [],
   "source": [
    "def find3_bad_conditions(inputData):\n",
    "    result = defaultdict(lambda:1)\n",
    "    if len(inputData) in [3, 4]:\n",
    "        i = 1\n",
    "        for dot in inputData:\n",
    "            result[dot] = i\n",
    "            i += 1\n",
    "            i = 1 if i > 3 else i\n",
    "        return result \n",
    "    \n",
    "    threshold = PARAMS[3][0]\n",
    "    circle = find_max_circle(inputData, 3, threshold)\n",
    "    \n",
    "    for dot in inputData:\n",
    "        if circle.check(dot):\n",
    "            result[dot] = 3    \n",
    "    \n",
    "    return result            "
   ]
  },
  {
   "cell_type": "markdown",
   "metadata": {},
   "source": [
    "Функция решающая задачу. Алгоритм описан в README"
   ]
  },
  {
   "cell_type": "code",
   "execution_count": 117,
   "metadata": {},
   "outputs": [],
   "source": [
    "def solution(inputData, M):\n",
    "    result = defaultdict(lambda : 1)\n",
    "    \n",
    "    if M == 1:\n",
    "        return result    \n",
    "    \n",
    "    inputSet = set(inputData)\n",
    "      \n",
    "    for m in range(M, 1, -1):\n",
    "        if len(inputSet) == 0:\n",
    "            break\n",
    "            \n",
    "        threshold, needed_size, iterations = PARAMS[m]\n",
    "        \n",
    "        if len(inputSet) < needed_size:\n",
    "            if m == 3:\n",
    "                result3 = find3_bad_conditions(inputSet)\n",
    "                for key in result3.keys():\n",
    "                    result[key]= result3[key]\n",
    "                    inputSet.remove(key)                \n",
    "                continue\n",
    "            \n",
    "            if m == 2:                \n",
    "                result2 = find2_bad_conditions(inputSet)\n",
    "                for key in result2.keys():\n",
    "                    result[key]= result2[key]\n",
    "                return result\n",
    "        \n",
    "        classified = set()\n",
    "        circle = get_circle(list(inputSet), threshold, needed_size, iterations)\n",
    "        for dot in inputSet:\n",
    "            if circle.check(dot):\n",
    "                result[dot] = m\n",
    "                classified.add(dot)\n",
    "        inputSet -= classified\n",
    "    return result"
   ]
  },
  {
   "cell_type": "markdown",
   "metadata": {},
   "source": [
    "# Тесты"
   ]
  },
  {
   "cell_type": "code",
   "execution_count": 91,
   "metadata": {},
   "outputs": [],
   "source": [
    "def solve_draw_check(circles, M):\n",
    "    inputData = gen_input(circles)\n",
    "    result = solution(inputData, M)\n",
    "    draw_result(inputData, result)\n",
    "    check_result(circles, result)"
   ]
  },
  {
   "cell_type": "markdown",
   "metadata": {},
   "source": [
    "### Tecт на ~100 точек, 3 окружности, поле (-1000000, 1000000)"
   ]
  },
  {
   "cell_type": "code",
   "execution_count": 93,
   "metadata": {},
   "outputs": [
    {
     "data": {
      "image/png": "[encoded data removed]",
      "text/plain": [
       "<Figure size 432x288 with 1 Axes>"
      ]
     },
     "metadata": {
      "needs_background": "light"
     },
     "output_type": "display_data"
    }
   ],
   "source": [
    "N = 100\n",
    "M = 3\n",
    "circles = gen_test(N, M, 10000000, (-1000000, 1000000))"
   ]
  },
  {
   "cell_type": "code",
   "execution_count": 99,
   "metadata": {},
   "outputs": [
    {
     "name": "stdout",
     "output_type": "stream",
     "text": [
      "Pass all !!!\n",
      "Wall time: 30.1 ms\n"
     ]
    },
    {
     "data": {
      "image/png": "[encoded data removed]",
      "text/plain": [
       "<Figure size 432x288 with 1 Axes>"
      ]
     },
     "metadata": {
      "needs_background": "light"
     },
     "output_type": "display_data"
    }
   ],
   "source": [
    "%%time\n",
    "solve_draw_check(circles, 3)"
   ]
  },
  {
   "cell_type": "markdown",
   "metadata": {},
   "source": [
    "### Tecт на ~10000 точек, 3 окружности, поле (-1000000, 1000000)"
   ]
  },
  {
   "cell_type": "code",
   "execution_count": 100,
   "metadata": {},
   "outputs": [
    {
     "data": {
      "image/png": "[encoded data removed]",
      "text/plain": [
       "<Figure size 432x288 with 1 Axes>"
      ]
     },
     "metadata": {
      "needs_background": "light"
     },
     "output_type": "display_data"
    }
   ],
   "source": [
    "N = 10000\n",
    "M = 3\n",
    "circles = gen_test(N, M, 10000000, (-1000000, 1000000))"
   ]
  },
  {
   "cell_type": "code",
   "execution_count": 101,
   "metadata": {},
   "outputs": [
    {
     "name": "stdout",
     "output_type": "stream",
     "text": [
      "Pass all !!!\n",
      "Wall time: 196 ms\n"
     ]
    },
    {
     "data": {
      "image/png": "[encoded data removed]",
      "text/plain": [
       "<Figure size 432x288 with 1 Axes>"
      ]
     },
     "metadata": {
      "needs_background": "light"
     },
     "output_type": "display_data"
    }
   ],
   "source": [
    "%%time\n",
    "solve_draw_check(circles, 3)"
   ]
  },
  {
   "cell_type": "markdown",
   "metadata": {},
   "source": [
    "## Кастомные тесты 3 окружности."
   ]
  },
  {
   "cell_type": "markdown",
   "metadata": {},
   "source": [
    "### Тест 1"
   ]
  },
  {
   "cell_type": "code",
   "execution_count": 102,
   "metadata": {},
   "outputs": [
    {
     "data": {
      "image/png": "[encoded data removed]",
      "text/plain": [
       "<Figure size 432x288 with 1 Axes>"
      ]
     },
     "metadata": {
      "needs_background": "light"
     },
     "output_type": "display_data"
    }
   ],
   "source": [
    "circles = []\n",
    "circles.append(gen_circle((0, 0), 5, 6))\n",
    "circles.append(gen_circle((10, 10), 5, 4))\n",
    "circles.append(gen_circle((-10, -10), 5, 16))\n",
    "draw_plot(circles)"
   ]
  },
  {
   "cell_type": "code",
   "execution_count": 103,
   "metadata": {},
   "outputs": [
    {
     "name": "stdout",
     "output_type": "stream",
     "text": [
      "Pass all !!!\n",
      "Wall time: 25.1 ms\n"
     ]
    },
    {
     "data": {
      "image/png": "[encoded data removed]",
      "text/plain": [
       "<Figure size 432x288 with 1 Axes>"
      ]
     },
     "metadata": {
      "needs_background": "light"
     },
     "output_type": "display_data"
    }
   ],
   "source": [
    "%%time\n",
    "solve_draw_check(circles, 3)"
   ]
  },
  {
   "cell_type": "markdown",
   "metadata": {},
   "source": [
    "### Тест 2"
   ]
  },
  {
   "cell_type": "code",
   "execution_count": 104,
   "metadata": {},
   "outputs": [
    {
     "data": {
      "image/png": "[encoded data removed]",
      "text/plain": [
       "<Figure size 432x288 with 1 Axes>"
      ]
     },
     "metadata": {
      "needs_background": "light"
     },
     "output_type": "display_data"
    }
   ],
   "source": [
    "circles = []\n",
    "circles.append(gen_circle((0, 0), 5, 1))\n",
    "circles.append(gen_circle((10, 10), 5, 1))\n",
    "circles.append(gen_circle((-10, -10), 5, 6))\n",
    "draw_plot(circles)"
   ]
  },
  {
   "cell_type": "code",
   "execution_count": 105,
   "metadata": {},
   "outputs": [
    {
     "name": "stdout",
     "output_type": "stream",
     "text": [
      "Pass all !!!\n",
      "Wall time: 25.1 ms\n"
     ]
    },
    {
     "data": {
      "image/png": "[encoded data removed]",
      "text/plain": [
       "<Figure size 432x288 with 1 Axes>"
      ]
     },
     "metadata": {
      "needs_background": "light"
     },
     "output_type": "display_data"
    }
   ],
   "source": [
    "%%time\n",
    "solve_draw_check(circles, 3)"
   ]
  },
  {
   "cell_type": "markdown",
   "metadata": {},
   "source": [
    "# Кастомные тесты 2 окружности."
   ]
  },
  {
   "cell_type": "markdown",
   "metadata": {},
   "source": [
    "### Тест 1"
   ]
  },
  {
   "cell_type": "code",
   "execution_count": 106,
   "metadata": {},
   "outputs": [
    {
     "data": {
      "image/png": "[encoded data removed]",
      "text/plain": [
       "<Figure size 432x288 with 1 Axes>"
      ]
     },
     "metadata": {
      "needs_background": "light"
     },
     "output_type": "display_data"
    }
   ],
   "source": [
    "circles = []\n",
    "circles.append(gen_circle((0, 0), 5, 1))\n",
    "circles.append(gen_circle((10, 10), 5, 10))\n",
    "draw_plot(circles)"
   ]
  },
  {
   "cell_type": "code",
   "execution_count": 108,
   "metadata": {},
   "outputs": [
    {
     "name": "stdout",
     "output_type": "stream",
     "text": [
      "Pass all !!!\n",
      "Wall time: 15 ms\n"
     ]
    },
    {
     "data": {
      "image/png": "[encoded data removed]",
      "text/plain": [
       "<Figure size 432x288 with 1 Axes>"
      ]
     },
     "metadata": {
      "needs_background": "light"
     },
     "output_type": "display_data"
    }
   ],
   "source": [
    "%%time\n",
    "solve_draw_check(circles, 2)"
   ]
  },
  {
   "cell_type": "markdown",
   "metadata": {},
   "source": [
    "### Тест 2"
   ]
  },
  {
   "cell_type": "code",
   "execution_count": 111,
   "metadata": {},
   "outputs": [
    {
     "data": {
      "image/png": "[encoded data removed]",
      "text/plain": [
       "<Figure size 432x288 with 1 Axes>"
      ]
     },
     "metadata": {
      "needs_background": "light"
     },
     "output_type": "display_data"
    }
   ],
   "source": [
    "circles = []\n",
    "circles.append(gen_circle((0, 0), 5, 3))\n",
    "circles.append(gen_circle((10, 10), 70, 100))\n",
    "draw_plot(circles)"
   ]
  },
  {
   "cell_type": "code",
   "execution_count": 112,
   "metadata": {},
   "outputs": [
    {
     "name": "stdout",
     "output_type": "stream",
     "text": [
      "Pass all !!!\n",
      "Wall time: 15.1 ms\n"
     ]
    },
    {
     "data": {
      "image/png": "[encoded data removed]",
      "text/plain": [
       "<Figure size 432x288 with 1 Axes>"
      ]
     },
     "metadata": {
      "needs_background": "light"
     },
     "output_type": "display_data"
    }
   ],
   "source": [
    "%%time\n",
    "solve_draw_check(circles, 2)"
   ]
  },
  {
   "cell_type": "markdown",
   "metadata": {},
   "source": [
    "# Тест 3 точки"
   ]
  },
  {
   "cell_type": "code",
   "execution_count": 120,
   "metadata": {},
   "outputs": [
    {
     "data": {
      "image/png": "[encoded data removed]",
      "text/plain": [
       "<Figure size 432x288 with 1 Axes>"
      ]
     },
     "metadata": {
      "needs_background": "light"
     },
     "output_type": "display_data"
    }
   ],
   "source": [
    "circles = []\n",
    "circles.append(gen_circle((0, 0), 5, 1))\n",
    "circles.append(gen_circle((10, 10), 5, 1))\n",
    "circles.append(gen_circle((-1, 5), 5, 1))\n",
    "draw_plot(circles)"
   ]
  },
  {
   "cell_type": "code",
   "execution_count": 121,
   "metadata": {},
   "outputs": [
    {
     "name": "stdout",
     "output_type": "stream",
     "text": [
      "Pass all !!!\n"
     ]
    },
    {
     "data": {
      "image/png": "[encoded data removed]",
      "text/plain": [
       "<Figure size 432x288 with 1 Axes>"
      ]
     },
     "metadata": {
      "needs_background": "light"
     },
     "output_type": "display_data"
    }
   ],
   "source": [
    "solve_draw_check(circles, 3)"
   ]
  }
 ],
 "metadata": {
  "kernelspec": {
   "display_name": "Python 3",
   "language": "python",
   "name": "python3"
  },
  "language_info": {
   "codemirror_mode": {
    "name": "ipython",
    "version": 3
   },
   "file_extension": ".py",
   "mimetype": "text/x-python",
   "name": "python",
   "nbconvert_exporter": "python",
   "pygments_lexer": "ipython3",
   "version": "3.7.6"
  },
  "pycharm": {
   "stem_cell": {
    "cell_type": "raw",
    "metadata": {
     "collapsed": false
    },
    "source": []
   }
  }
 },
 "nbformat": 4,
 "nbformat_minor": 4
}
